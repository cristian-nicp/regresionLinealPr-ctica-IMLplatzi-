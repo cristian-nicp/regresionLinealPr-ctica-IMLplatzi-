{
  "nbformat": 4,
  "nbformat_minor": 0,
  "metadata": {
    "colab": {
      "name": "implementacionRegresionLineal(IMLP).ipynb",
      "provenance": [],
      "authorship_tag": "ABX9TyNuY0Hq3PEPD9U/ibyBCvd1",
      "include_colab_link": true
    },
    "kernelspec": {
      "name": "python3",
      "display_name": "Python 3"
    }
  },
  "cells": [
    {
      "cell_type": "markdown",
      "metadata": {
        "id": "view-in-github",
        "colab_type": "text"
      },
      "source": [
        "<a href=\"https://colab.research.google.com/github/cristian-nicp/regresionLinealPr-ctica-IMLplatzi-/blob/master/implementacionRegresionLineal(IMLP).ipynb\" target=\"_parent\"><img src=\"https://colab.research.google.com/assets/colab-badge.svg\" alt=\"Open In Colab\"/></a>"
      ]
    },
    {
      "cell_type": "code",
      "metadata": {
        "id": "Iqxo-MMUNw8T",
        "colab_type": "code",
        "colab": {}
      },
      "source": [
        "import torch\n",
        "import numpy as np\n",
        "import torch.nn as nn# redes neuronales,necesitamos una relación lineal que viene en este modo\n",
        "import torch.optim as optim# va a traer la oprimizacion necesaria para calcular las gradientes y hacer un backpropagation\n",
        "import matplotlib.pyplot as plt"
      ],
      "execution_count": 0,
      "outputs": []
    },
    {
      "cell_type": "markdown",
      "metadata": {
        "id": "nvT_zV4yenOz",
        "colab_type": "text"
      },
      "source": [
        "# Regresión Lineal\n",
        "\n",
        "---\n",
        "\n"
      ]
    },
    {
      "cell_type": "code",
      "metadata": {
        "id": "nXMY7a1GZTOw",
        "colab_type": "code",
        "colab": {
          "base_uri": "https://localhost:8080/",
          "height": 282
        },
        "outputId": "d4a77a76-c214-4299-e8d7-f24e1167dffe"
      },
      "source": [
        "#Vamos a hacer unidades vendidas de autos explicadas por los precios\n",
        "car_prices = [5 ,6 ,7 ,8 ,9 ,10]\n",
        "units_sold = [8.5 ,8.0 ,7.5 ,7 ,6.5 ,6.0]#Vamos a suponer que a un precio menor se venden más unidades\n",
        "plt.scatter(car_prices ,units_sold)#Graficamos"
      ],
      "execution_count": 3,
      "outputs": [
        {
          "output_type": "execute_result",
          "data": {
            "text/plain": [
              "<matplotlib.collections.PathCollection at 0x7fb9a4fc4c18>"
            ]
          },
          "metadata": {
            "tags": []
          },
          "execution_count": 3
        },
        {
          "output_type": "display_data",
          "data": {
            "image/png": "[encoded data removed]",
            "text/plain": [
              "<Figure size 432x288 with 1 Axes>"
            ]
          },
          "metadata": {
            "tags": []
          }
        }
      ]
    },
    {
      "cell_type": "markdown",
      "metadata": {
        "id": "kj_rh52IgBu1",
        "colab_type": "text"
      },
      "source": [
        "**Este arreglo que tenemos en python,lo vamos a convertir en un array de numpy para poder tener en claro el proceso de conversión de datos.El algunos casos voy a trabajar así,en otros desde numpy y en otros, la data ya va a estar listo en pytorch en un formato de tensor**"
      ]
    },
    {
      "cell_type": "code",
      "metadata": {
        "id": "0Ozi6hCXgAYK",
        "colab_type": "code",
        "colab": {
          "base_uri": "https://localhost:8080/",
          "height": 238
        },
        "outputId": "759d22e9-2539-4f59-cbbf-240c9e948998"
      },
      "source": [
        "prices_array = np.array(car_prices).reshape(-1, 1)#le damos una forma diferente con reshape\n",
        "units_array = np.array(units_sold).reshape(-1, 1)\n",
        "\n",
        "print(prices_array)#El arreglo que tenia antes ahora tiene un formato distinto,esto me va a servir para cuando se lo envie a pytorch para convertirlo en un tensor\n",
        "print()\n",
        "print(units_array)"
      ],
      "execution_count": 10,
      "outputs": [
        {
          "output_type": "stream",
          "text": [
            "[[ 5]\n",
            " [ 6]\n",
            " [ 7]\n",
            " [ 8]\n",
            " [ 9]\n",
            " [10]]\n",
            "\n",
            "[[8.5]\n",
            " [8. ]\n",
            " [7.5]\n",
            " [7. ]\n",
            " [6.5]\n",
            " [6. ]]\n"
          ],
          "name": "stdout"
        }
      ]
    },
    {
      "cell_type": "code",
      "metadata": {
        "id": "WmlTrXLohqyO",
        "colab_type": "code",
        "colab": {
          "base_uri": "https://localhost:8080/",
          "height": 238
        },
        "outputId": "b866abb3-f094-4543-e9fa-a65b43950b57"
      },
      "source": [
        "#Ahora voy a convertir a ambos en tensores\n",
        "prices = torch.from_numpy(prices_array).float().requires_grad_(True)#el ultimo _ significa que va a modificar el arreglo como tal,y el tensor es el que sufre la modificacion,por lo que va a quedar con los gradientes activados\n",
        "units = torch.from_numpy(units_array).float().requires_grad_(True)\n",
        "\n",
        "print(prices ,prices.shape)\n",
        "print()\n",
        "print(units ,units.shape)"
      ],
      "execution_count": 17,
      "outputs": [
        {
          "output_type": "stream",
          "text": [
            "tensor([[ 5.],\n",
            "        [ 6.],\n",
            "        [ 7.],\n",
            "        [ 8.],\n",
            "        [ 9.],\n",
            "        [10.]], requires_grad=True) torch.Size([6, 1])\n",
            "\n",
            "tensor([[8.5000],\n",
            "        [8.0000],\n",
            "        [7.5000],\n",
            "        [7.0000],\n",
            "        [6.5000],\n",
            "        [6.0000]], requires_grad=True) torch.Size([6, 1])\n"
          ],
          "name": "stdout"
        }
      ]
    },
    {
      "cell_type": "code",
      "metadata": {
        "id": "XpSrK6DxjGkY",
        "colab_type": "code",
        "colab": {
          "base_uri": "https://localhost:8080/",
          "height": 299
        },
        "outputId": "43be8ecd-0e42-4a51-a352-c6b57066353a"
      },
      "source": [
        "#AHORA EMPIEZO A CREAR EL MODELO\n",
        "model = nn.Linear(1, 1)#los parametros que va a recibir son el tamaño de la entrada y la salida,dim\n",
        "loss_function = nn.MSELoss()#función de perdida,uso la media de cuadrado de los errores\n",
        "optimizer = optim.SGD(model.parameters(),lr = 0.015)#Definimos el optimizador sgd=stochastic gradient descent. Los parametros son los pesos(w), y tengo que especificarle cuál es el learning rate,que son los pasos que voy dando para minimizar la perdida a traves del gradiente\n",
        "#voy a trabajar con un batch de datos para calcular el gradiente,no trabajo con el dataset completo,ni con un dato, sino que es el punto intermedio\n",
        "#Con esto listo,voy a crear mi training loop, para ver como vamos entrenando,graficamos los losses vs el num de interaciones\n",
        "losses = []\n",
        "iterations = 2000\n",
        "\n",
        "for i in range(iterations):#Todo esto es el forward pass\n",
        "  pred = model(prices)#por cada iteracion regresar una prediccion que es ejecutar un forward pass con el modelo que definimos que es una relación lineal y envio los precios como parametro\n",
        "  loss = loss_function(pred, units)#Luego necesito saber el loss#cuanto estoy adivinando(pred),y cuanto es en realidad(units)\n",
        "  losses.append(loss.data)#Puedo agregar a mi arreglo la perdida que tuve en ese momento\n",
        "\n",
        "  optimizer.zero_grad()#previo a hacer el backward voy a reiniciar los gradientes xq pytorch acumula,y si no hago esto, el resultado no va a ser el que busco porque los gradientes se siguen acumulando\n",
        "  #Ahora necesito un backward pass\n",
        "  loss.backward()#Ahora si ya puedo hacer el backpropagation que es parte de mi training loop\n",
        "  optimizer.step()#En base a los grad que se calcularon me muevo un poco en direccion al minimo\n",
        "\n",
        "print(float(loss))#cual fue el ultimo loss\n",
        "plt.plot(range(iterations), losses)#grafico las iteraciones junto con los losses"
      ],
      "execution_count": 20,
      "outputs": [
        {
          "output_type": "stream",
          "text": [
            "0.014876127243041992\n"
          ],
          "name": "stdout"
        },
        {
          "output_type": "execute_result",
          "data": {
            "text/plain": [
              "[<matplotlib.lines.Line2D at 0x7fb9a0c1c2b0>]"
            ]
          },
          "metadata": {
            "tags": []
          },
          "execution_count": 20
        },
        {
          "output_type": "display_data",
          "data": {
            "image/png": "[encoded data removed]",
            "text/plain": [
              "<Figure size 432x288 with 1 Axes>"
            ]
          },
          "metadata": {
            "tags": []
          }
        }
      ]
    },
    {
      "cell_type": "code",
      "metadata": {
        "id": "fOnu32rjoncq",
        "colab_type": "code",
        "colab": {
          "base_uri": "https://localhost:8080/",
          "height": 34
        },
        "outputId": "0ace283a-6fd0-4f15-ee8a-8e3f7b1bd4e7"
      },
      "source": [
        "#Mi modelo ya está entrenado, entonces ya puede predecir\n",
        "x = torch.Tensor([[3.0]])#seria el precio\n",
        "p = model(x)\n",
        "p"
      ],
      "execution_count": 25,
      "outputs": [
        {
          "output_type": "execute_result",
          "data": {
            "text/plain": [
              "tensor([[9.1602]], grad_fn=<AddmmBackward>)"
            ]
          },
          "metadata": {
            "tags": []
          },
          "execution_count": 25
        }
      ]
    }
  ]
}